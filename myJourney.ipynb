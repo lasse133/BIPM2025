Generate inmteractive map and save as standalone html page.

(Try different tile servers)

import foliumfrom pyproj import Geodgeod = Geod(ellps="WGS84")# Define stopsstops = [

{"city": "Cologne, Germany", "lat": 50.9375, "lon": 6.9603, "popup": "B.Sc. Physics (1988-1991) 🎓"},

{"city": "Columbus, Ohio", "lat": 39.9612, "lon": -82.9988, "popup": "PhD Physics (1991-1997) 🎓"},

{"city": "Atlanta, GA", "lat": 33.7490, "lon": -84.3880, "popup": "Postdoc Georgia Tech (1997-1999) 🧠"},

{"city": "Princeton, NJ", "lat": 40.3573, "lon": -74.6672, "popup": "Siemens Research (2000-2006) 💼"},

{"city": "Manhattan, NY", "lat": 40.7831, "lon": -73.9712, "popup": "Startup (2006-2011) 💻"},

{"city": "Berlin, Germany", "lat": 52.5200, "lon": 13.4050, "popup": "University (2011-Now) 🏫"}]# Create mapm = folium.Map(

location=[40, 0],

zoom_start=2.3,

tiles="https://{s}.basemaps.cartocdn.com/light_all/{z}/{x}/{y}{r}.png",

attr="© OpenStreetMap contributors © CARTO")# Add markersfor stop in stops:

folium.Marker(

[stop["lat"], stop["lon"]],

popup=stop["popup"],

tooltip=stop["city"],

icon=folium.Icon(color="blue", icon="info-sign")

).add_to(m)# Function to compute many intermediate great-circle pointsdef great_circle_points(lat1, lon1, lat2, lon2, npts=100):

points = geod.npts(lon1, lat1, lon2, lat2, npts)

coords = [(lat1, lon1)] + [(lat, lon) for lon, lat in points] + [(lat2, lon2)]

return coords# Draw arcs between consecutive stopsfor i in range(len(stops) - 1):

start, end = stops[i], stops[i + 1]

arc = great_circle_points(start["lat"], start["lon"], end["lat"], end["lon"], npts=60)

folium.PolyLine(

arc,

color="darkblue",

weight=3,

opacity=0.7

).add_to(m)# Save and openm.save("academic_journey_map.html")import webbrowser; webbrowser.open("academic_journey_map.html")
