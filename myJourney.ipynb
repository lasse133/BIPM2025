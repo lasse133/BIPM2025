import folium
from pyproj import Geod
import webbrowser

geod = Geod(ellps="WGS84")

# Define stops
stops = [
    {"city": "Itzehoe, Germany", "lat": 53.92, "lon": 9.51, "popup": "Abitur (ca. 2013-2021) 🎓"},
    {"city": "Berlin, Germany", "lat": 52.5200, "lon": 13.4050, "popup": "B.Sc. Wirtschaftsinformatik (2021-2025) 🎓"},
    {"city": "Berlin, Germany", "lat": 52.5200, "lon": 13.4050, "popup": "Werkstudent cimt ag (2024-Jetzt) 💼"},
    {"city": "Berlin, Germany", "lat": 52.5200, "lon": 13.4050, "popup": "M.Sc. Business Intelligence & Process Management (2025-Jetzt) 🎓"}
]

# Create map
m = folium.Map(
    location=[52.5200, 13.4050],  # Zentriert die Karte auf Berlin
    zoom_start=6,                 # Passt den Zoomlevel an, um Itzehoe und Berlin zu sehen
    tiles="CartoDB positron",     # Ändert den Karten-Stil zu einem helleren Design
    attr="© OpenStreetMap contributors © CARTO"
)

# Add markers
for stop in stops:
    folium.Marker(
        [stop["lat"], stop["lon"]],
        popup=stop["popup"],
        tooltip=stop["city"],
        icon=folium.Icon(color="blue", icon="info-sign")
    ).add_to(m)

# Function to compute many intermediate great-circle points
def great_circle_points(lat1, lon1, lat2, lon2, npts=100):
    points = geod.npts(lon1, lat1, lon2, lat2, npts)
    coords = [(lat1, lon1)] + [(lat, lon) for lon, lat in points] + [(lat2, lon2)]
    return coords

# Draw arcs between consecutive stops
for i in range(len(stops) - 1):
    start, end = stops[i], stops[i + 1]
    arc = great_circle_points(start["lat"], start["lon"], end["lat"], end["lon"], npts=60)
    folium.PolyLine(
        arc,
        color="darkblue",
        weight=3,
        opacity=0.7
    ).add_to(m)

# 1. Speichern Sie die Folium-Karte als eigenständige HTML-Datei
map_file = "academic_journey_map.html"
m.save(map_file)

# 2. Erstellen Sie eine neue HTML-Datei, die die Karte als Iframe einbettet
html_content = f"""
<!DOCTYPE html>
<html>
<head>
    <title>Mein Lebenslauf-Karte</title>
    <style>
        body {{
            font-family: sans-serif;
            text-align: center;
            margin: 20px;
        }}
        .container {{
            border: 2px solid #ccc;
            padding: 10px;
            display: inline-block;
        }}
    </style>
</head>
<body>
    <h1>Meine berufliche und akademische Reise</h1>
    <p>Eine interaktive Karte meiner bisherigen Stationen.</p>
    <div class="container">
        <iframe src="{map_file}" width="800" height="600" style="border:0;" allowfullscreen="" loading="lazy"></iframe>
    </div>
</body>
</html>
"""

# Speichern Sie das HTML-Dokument, das den Iframe enthält
iframe_file = "resume_with_map.html"
with open(iframe_file, "w", encoding="utf-8") as f:
    f.write(html_content)

# Öffnen Sie die HTML-Datei im Webbrowser
webbrowser.open(iframe_file)
